{
 "cells": [
  {
   "cell_type": "markdown",
   "metadata": {},
   "source": [
    "# Projeto 1 - Ciência dos Dados"
   ]
  },
  {
   "cell_type": "markdown",
   "metadata": {},
   "source": [
    "Nome: Maria Eduarda Torres\n",
    "\n",
    "Nome: Giancarlo Vanoni Ruggiero"
   ]
  },
  {
   "cell_type": "markdown",
   "metadata": {},
   "source": [
    "___\n",
    "Carregando algumas bibliotecas:"
   ]
  },
  {
   "cell_type": "code",
   "execution_count": null,
   "metadata": {},
   "outputs": [],
   "source": [
    "%matplotlib inline\n",
    "import pandas as pd\n",
    "import matplotlib.pyplot as plt\n",
    "import numpy as np\n",
    "import os\n",
    "import re \n",
    "import numpy\n",
    "import itertools\n",
    "import collections\n",
    "import functools\n",
    "import operator\n",
    "import emoji"
   ]
  },
  {
   "cell_type": "code",
   "execution_count": null,
   "metadata": {
    "scrolled": false
   },
   "outputs": [],
   "source": [
    "print('Esperamos trabalhar no diretório')\n",
    "print(os.getcwd())"
   ]
  },
  {
   "cell_type": "markdown",
   "metadata": {},
   "source": [
    "Carregando a base de dados com os tweets classificados como relevantes e não relevantes:"
   ]
  },
  {
   "cell_type": "code",
   "execution_count": null,
   "metadata": {},
   "outputs": [],
   "source": [
    "filename = 'iphone_12.xlsx'"
   ]
  },
  {
   "cell_type": "code",
   "execution_count": null,
   "metadata": {},
   "outputs": [],
   "source": [
    "train = pd.read_excel(filename)\n",
    "train"
   ]
  },
  {
   "cell_type": "code",
   "execution_count": null,
   "metadata": {},
   "outputs": [],
   "source": [
    "test = pd.read_excel(filename, sheet_name = 'Teste')\n",
    "test"
   ]
  },
  {
   "cell_type": "markdown",
   "metadata": {},
   "source": [
    "****"
   ]
  },
  {
   "cell_type": "markdown",
   "metadata": {},
   "source": [
    "___\n",
    "# <kbd><code style=\"font-family:Times New Roman;background:black;color:white\">Classificador automático de sentimento</code></kbd>\n"
   ]
  },
  {
   "cell_type": "markdown",
   "metadata": {},
   "source": [
    "\n",
    "*O produto escolhido foi o \"Iphone 12\". Foi classificado como relevante todos os tweets que traria algum feedback, tanto positivo como negativo sobre o celular para que a empresa pudesse saber no que melhorar. Os tweets que falavam sobre aposta, sorteio ou comparação com outros produtos que não são concorrentes foram classificados como irrelevantes.*\n",
    "\n",
    "***"
   ]
  },
  {
   "cell_type": "markdown",
   "metadata": {},
   "source": [
    "___\n",
    "# <kbd><code style=\"font-family:Times New Roman;background:black;color:white\">Montando um Classificador Naive-Bayes</code></kbd>\n",
    "\n",
    "\n",
    "\n"
   ]
  },
  {
   "cell_type": "markdown",
   "metadata": {},
   "source": [
    "****\n",
    "> <code style=\"background:darkblue;color:white\">Limpeza de mensagens removendo os caracteres: enter, :, \", ', (, ), etc</code>"
   ]
  },
  {
   "cell_type": "code",
   "execution_count": null,
   "metadata": {},
   "outputs": [],
   "source": [
    "import re \n",
    "\n",
    "def cleanup(text):\n",
    "    \"\"\" \n",
    "        Função de limpeza muito simples que troca alguns sinais básicos por espaços\n",
    "    \"\"\"\n",
    "    import string\n",
    "    punctuation = '[!-.:_?;]' # Note que os sinais [] são delimitadores de um conjunto.\n",
    "    pattern = re.compile(punctuation)\n",
    "    text_subbed = re.sub(pattern, '', text)\n",
    "    return text_subbed\n",
    "\n",
    "def clean_and_replace(list_to_clean):\n",
    "    lista = []\n",
    "    for e in list_to_clean:\n",
    "        c = cleanup(e.lower())\n",
    "        x = re.sub(\"@[A-Za-z0-9]+\",\"\",c)\n",
    "        z = re.sub(\"https//tco/[A-Za-z0-9]+\",\"\",x)\n",
    "        y = z.replace('\\n', '').replace('  ', ' ')\n",
    "        lista.append(y)\n",
    "    return lista"
   ]
  },
  {
   "cell_type": "markdown",
   "metadata": {},
   "source": [
    "<mark>*Texto total*</mark>"
   ]
  },
  {
   "cell_type": "markdown",
   "metadata": {},
   "source": [
    "`lista_T` $\\Rightarrow$ lista de tweets já limpos para treinamento "
   ]
  },
  {
   "cell_type": "code",
   "execution_count": null,
   "metadata": {},
   "outputs": [],
   "source": [
    "lista_T=[] \n",
    "lista_T = clean_and_replace(train.Treinamento)\n",
    "\n",
    "print(\"O total de tweets para treinamento do classificador é:\",len(lista_T))"
   ]
  },
  {
   "cell_type": "markdown",
   "metadata": {},
   "source": [
    "`texto_total` $\\Rightarrow$ *Reunindo todos os tweets em uma única variável de texto, separando cada palavra por um espaço*"
   ]
  },
  {
   "cell_type": "code",
   "execution_count": null,
   "metadata": {},
   "outputs": [],
   "source": [
    "texto_total=\"\"\n",
    "for e in lista_T:\n",
    "    texto_total+= \" \" + e \n",
    "texto_total = cleanup(texto_total.lower())"
   ]
  },
  {
   "cell_type": "markdown",
   "metadata": {},
   "source": [
    "<mark>*Texto relevante*</mark>"
   ]
  },
  {
   "cell_type": "markdown",
   "metadata": {},
   "source": [
    "`relevante` $\\Rightarrow$ *Separando os tweets de Treinamento da categoria Relevante*"
   ]
  },
  {
   "cell_type": "code",
   "execution_count": null,
   "metadata": {},
   "outputs": [],
   "source": [
    "filtra_linhas= train['categorias'] == 1\n",
    "relevante= train.loc[filtra_linhas, :]"
   ]
  },
  {
   "cell_type": "markdown",
   "metadata": {},
   "source": [
    "`Lista_T` $\\Rightarrow$ *lista de tweets relevantes já limpos para treinamento*"
   ]
  },
  {
   "cell_type": "code",
   "execution_count": null,
   "metadata": {},
   "outputs": [],
   "source": [
    "lista_R=[]    \n",
    "lista_R = clean_and_replace(relevante.Treinamento)\n",
    "\n",
    "print('O total de tweets relevantes para treinamento do classificador é:',len(lista_R))"
   ]
  },
  {
   "cell_type": "markdown",
   "metadata": {},
   "source": [
    "`texto_R` $\\Rightarrow$ *Reunindo todos os tweets relevantes em uma única variável de texto, separando cada palavra por um espaço*"
   ]
  },
  {
   "cell_type": "code",
   "execution_count": null,
   "metadata": {},
   "outputs": [],
   "source": [
    "texto_R=\"\"\n",
    "for e in lista_R:\n",
    "    texto_R+= \" \" + e \n",
    "texto_R = cleanup(texto_R.lower())"
   ]
  },
  {
   "cell_type": "markdown",
   "metadata": {},
   "source": [
    "<mark>*Texto irrelevante*</mark>"
   ]
  },
  {
   "cell_type": "markdown",
   "metadata": {},
   "source": [
    "`irrelevante` $\\Rightarrow$ *Separando os tweets de Treinamento da categoria Irrelevante*"
   ]
  },
  {
   "cell_type": "code",
   "execution_count": null,
   "metadata": {},
   "outputs": [],
   "source": [
    "filtra_linhas_2 = train['categorias'] == 0\n",
    "irrelevante= train.loc[filtra_linhas_2, :]"
   ]
  },
  {
   "cell_type": "markdown",
   "metadata": {},
   "source": [
    "`Lista_I` $\\Rightarrow$ *lista de tweets irrelevantes já limpos para treinamento*"
   ]
  },
  {
   "cell_type": "code",
   "execution_count": null,
   "metadata": {},
   "outputs": [],
   "source": [
    "lista_I=[]    \n",
    "lista_I = clean_and_replace(irrelevante.Treinamento)\n",
    "\n",
    "print('O total de tweets irrelevantes para treinamento do classificador é:',len(lista_I))"
   ]
  },
  {
   "cell_type": "markdown",
   "metadata": {},
   "source": [
    "`texto_R` $\\Rightarrow$ *Reunindo todos os tweets irrelevantes em uma única variável de texto, separando cada palavra por um espaço*"
   ]
  },
  {
   "cell_type": "code",
   "execution_count": null,
   "metadata": {},
   "outputs": [],
   "source": [
    "texto_I =\"\"   \n",
    "for e in lista_I:\n",
    "    texto_I += \" \" + e \n",
    "texto_I = cleanup(texto_I.lower())"
   ]
  },
  {
   "cell_type": "markdown",
   "metadata": {},
   "source": [
    "****"
   ]
  },
  {
   "cell_type": "markdown",
   "metadata": {},
   "source": [
    "****\n",
    "> <code style=\"background:darkblue;color:white\">Correção de espaços entre palavras e/ou emojis</code>"
   ]
  },
  {
   "cell_type": "code",
   "execution_count": null,
   "metadata": {},
   "outputs": [],
   "source": [
    "def get_emoji_regexp():\n",
    "    # Sort emoji by length to make sure multi-character emojis are\n",
    "    # matched first\n",
    "    emojis = sorted(emoji.EMOJI_DATA, key=len, reverse=True)\n",
    "    pattern = u'(' + u'|'.join(re.escape(u) for u in emojis) + u')'\n",
    "    return re.compile(pattern)"
   ]
  },
  {
   "cell_type": "markdown",
   "metadata": {},
   "source": [
    "`texto` $\\Rightarrow$ *texto contendo todas as palavras de treinamento após a correção de espaços*"
   ]
  },
  {
   "cell_type": "code",
   "execution_count": null,
   "metadata": {},
   "outputs": [],
   "source": [
    "texto_split_emoji = get_emoji_regexp().split(texto_total)\n",
    "texto_split_whitespace = [substr.split() for substr in texto_split_emoji]\n",
    "texto = functools.reduce(operator.concat, texto_split_whitespace)"
   ]
  },
  {
   "cell_type": "markdown",
   "metadata": {},
   "source": [
    "`texto_relevante` $\\Rightarrow$ *texto contendo apenas as palavras de treinamento do subconjunto relevante após a correção de espaços*"
   ]
  },
  {
   "cell_type": "code",
   "execution_count": null,
   "metadata": {},
   "outputs": [],
   "source": [
    "texto_split_emoji_R = get_emoji_regexp().split(texto_R)\n",
    "texto_split_whitespace_R = [substr.split() for substr in texto_split_emoji_R ]\n",
    "texto_relevante = functools.reduce(operator.concat, texto_split_whitespace_R)"
   ]
  },
  {
   "cell_type": "markdown",
   "metadata": {},
   "source": [
    "`texto_irrelevante` $\\Rightarrow$ *texto contendo apenas as palavras de treinamento do subconjunto irrelevante após a correção de espaços*"
   ]
  },
  {
   "cell_type": "code",
   "execution_count": null,
   "metadata": {},
   "outputs": [],
   "source": [
    "texto_split_emoji_I = get_emoji_regexp().split(texto_I)\n",
    "texto_split_whitespace_I = [substr.split() for substr in texto_split_emoji_I ]\n",
    "texto_irrelevante = functools.reduce(operator.concat, texto_split_whitespace_I)"
   ]
  },
  {
   "cell_type": "markdown",
   "metadata": {},
   "source": [
    "***"
   ]
  },
  {
   "cell_type": "markdown",
   "metadata": {},
   "source": [
    "****\n",
    "> <code style=\"background:darkblue;color:white\">Suavização de Laplace</code>"
   ]
  },
  {
   "cell_type": "markdown",
   "metadata": {},
   "source": [
    "<mark>*Cálculo das Probabilidades*</mark>"
   ]
  },
  {
   "cell_type": "markdown",
   "metadata": {},
   "source": [
    "`prob_relevante` $\\Rightarrow$ *Probabilidade do tweet ser relevante*"
   ]
  },
  {
   "cell_type": "code",
   "execution_count": null,
   "metadata": {},
   "outputs": [],
   "source": [
    "prob_relevante = len(lista_R)/len(lista_T)\n",
    "print(\"A probabilidade do tweet ser relevante: P(R) =\",prob_relevante)"
   ]
  },
  {
   "cell_type": "markdown",
   "metadata": {},
   "source": [
    "`prob_irrelevante` $\\Rightarrow$ *Probabilidade do tweet ser irrelevante*"
   ]
  },
  {
   "cell_type": "code",
   "execution_count": null,
   "metadata": {},
   "outputs": [],
   "source": [
    "prob_irrelevante = len(lista_I)/len(lista_T)\n",
    "print(\"A probabilidade do tweet ser irrelevante: P(I) =\",prob_irrelevante)"
   ]
  },
  {
   "cell_type": "markdown",
   "metadata": {},
   "source": [
    "`total_texto_relevante` $\\Rightarrow$ *Total de palavras no subconjunto relevante*"
   ]
  },
  {
   "cell_type": "code",
   "execution_count": null,
   "metadata": {},
   "outputs": [],
   "source": [
    "total_texto_relevante = len(texto_relevante)"
   ]
  },
  {
   "cell_type": "markdown",
   "metadata": {},
   "source": [
    "`total_texto_irrelevante` $\\Rightarrow$ *Total de palavras no subconjunto irrelevante*"
   ]
  },
  {
   "cell_type": "code",
   "execution_count": null,
   "metadata": {},
   "outputs": [],
   "source": [
    "total_texto_irrelevante = len(texto_irrelevante)"
   ]
  },
  {
   "cell_type": "markdown",
   "metadata": {},
   "source": [
    "`vocabulario` $\\Rightarrow$ *Permite obter o total de palavras diferentes no vocabulário de treinamento*"
   ]
  },
  {
   "cell_type": "code",
   "execution_count": null,
   "metadata": {},
   "outputs": [],
   "source": [
    "vocabulario = pd.Series(texto).drop_duplicates()"
   ]
  },
  {
   "cell_type": "markdown",
   "metadata": {},
   "source": [
    "`total_por_palavra_R` $\\Rightarrow$ *Contagem das palavras relevantes*"
   ]
  },
  {
   "cell_type": "code",
   "execution_count": null,
   "metadata": {},
   "outputs": [],
   "source": [
    "total_por_palavra_R = pd.Series(texto_relevante).value_counts()"
   ]
  },
  {
   "cell_type": "markdown",
   "metadata": {},
   "source": [
    "`total_por_palavra_I` $\\Rightarrow$ *Contagem das palavras irrelevantes*"
   ]
  },
  {
   "cell_type": "code",
   "execution_count": null,
   "metadata": {},
   "outputs": [],
   "source": [
    "total_por_palavra_I = pd.Series(texto_irrelevante).value_counts()"
   ]
  },
  {
   "cell_type": "markdown",
   "metadata": {},
   "source": [
    "<mark>*Cálculo das probabilidades das palavras do vocabulário*</mark>"
   ]
  },
  {
   "cell_type": "code",
   "execution_count": null,
   "metadata": {},
   "outputs": [],
   "source": [
    "prob_palavras_R=[]\n",
    "prob_palavras_I=[]\n",
    "\n",
    "## Suavização de Laplace: Caso não tenha a palavra no vocabulario\n",
    "# Probabilidade no conjunto relevante\n",
    "laplace_R = 1/(total_texto_relevante + len(vocabulario))\n",
    "\n",
    "#Probabilidade no conjunto irrelevante\n",
    "laplace_I = 1/(total_texto_irrelevante + len(vocabulario))\n",
    "\n",
    "#Percorre todo o vocabulario calculando as probabilidades tanto relevante como irrelevante\n",
    "for palavra in vocabulario:\n",
    "    if palavra in total_por_palavra_R:\n",
    "        prob_r = (total_por_palavra_R[palavra] + 1)/(total_texto_relevante + len(vocabulario))\n",
    "        prob_palavras_R.append(prob_r)\n",
    "    else:\n",
    "        prob_palavras_R.append(laplace_R)\n",
    "\n",
    "    if palavra in total_por_palavra_I:\n",
    "        prob_i = (total_por_palavra_I[palavra] + 1)/(total_texto_irrelevante + len(vocabulario))\n",
    "        prob_palavras_I.append(prob_i)\n",
    "    else:\n",
    "        prob_palavras_I.append(laplace_I)"
   ]
  },
  {
   "cell_type": "markdown",
   "metadata": {},
   "source": [
    "<mark>*Organização dos dados: dataframe com as palavras e probabilidades*</mark>"
   ]
  },
  {
   "cell_type": "code",
   "execution_count": null,
   "metadata": {},
   "outputs": [],
   "source": [
    "lista_prob = list(zip(vocabulario,prob_palavras_R,prob_palavras_I))\n",
    "df_prob_aux = pd.DataFrame(lista_prob, columns = ['Palavra','P(palavra|Relevante)','P(palavra|Irrelevante)'])\n",
    "df_prob = df_prob_aux.set_index('Palavra')\n",
    "print(df_prob)"
   ]
  },
  {
   "cell_type": "markdown",
   "metadata": {},
   "source": [
    "***"
   ]
  },
  {
   "cell_type": "markdown",
   "metadata": {},
   "source": [
    "# <kbd><code style=\"font-family:Times New Roman;background:black;color:white\">Verificando a performance do Classificador</code></kbd>\n",
    "\n",
    "\n"
   ]
  },
  {
   "cell_type": "markdown",
   "metadata": {},
   "source": [
    "****\n",
    "> <code style=\"background:darkblue;color:white\">Limpeza de mensagens removendo os caracteres da base teste: enter, :, \", ', (, ), etc</code>"
   ]
  },
  {
   "cell_type": "markdown",
   "metadata": {},
   "source": [
    "`lista_R_teste` $\\Rightarrow$ *Limpeza da Lista para Teste de Tweets Relevantes*"
   ]
  },
  {
   "cell_type": "code",
   "execution_count": null,
   "metadata": {},
   "outputs": [],
   "source": [
    "filtra_linhas_teste= test['categorias'] == 1\n",
    "relevante_teste= test.loc[filtra_linhas_teste, :]\n",
    "lista_R_teste = []\n",
    "lista_R_teste = clean_and_replace(relevante_teste.Teste)\n",
    "print(\"O total de tweets relevantes usados no teste do classificador é :\",len(lista_R_teste))"
   ]
  },
  {
   "cell_type": "markdown",
   "metadata": {},
   "source": [
    "`lista_I_teste` $\\Rightarrow$ *Limpeza da Lista para Teste de Tweets Irrelevantes*"
   ]
  },
  {
   "cell_type": "code",
   "execution_count": null,
   "metadata": {},
   "outputs": [],
   "source": [
    "filtra_linhas_teste_2 = test['categorias'] == 0\n",
    "irrelevante_teste= test.loc[filtra_linhas_teste_2, :]\n",
    "lista_I_teste=[]\n",
    "lista_I_teste = clean_and_replace(irrelevante_teste.Teste)\n",
    "print(\"O total de tweets irrelevantes usados no teste do classificador é :\",len(lista_I_teste))"
   ]
  },
  {
   "cell_type": "markdown",
   "metadata": {},
   "source": [
    "***"
   ]
  },
  {
   "cell_type": "markdown",
   "metadata": {},
   "source": [
    "****\n",
    "> <code style=\"background:darkblue;color:white\">Correção de espaços entre palavras e/ou emojis da base teste</code>"
   ]
  },
  {
   "cell_type": "markdown",
   "metadata": {},
   "source": [
    "`lista_R` $\\Rightarrow$ *lista de tweets relevantes já limpos para teste*"
   ]
  },
  {
   "cell_type": "code",
   "execution_count": null,
   "metadata": {},
   "outputs": [],
   "source": [
    "lista_R=[] \n",
    "for e in lista_R_teste:\n",
    "    e = e.lower()\n",
    "    texto_split_emoji_teste = get_emoji_regexp().split(e)\n",
    "    texto_split_whitespace_teste = [substr.split() for substr in texto_split_emoji_teste]\n",
    "    list_teste = functools.reduce(operator.concat, texto_split_whitespace_teste)\n",
    "    lista_R.append(list_teste)"
   ]
  },
  {
   "cell_type": "markdown",
   "metadata": {},
   "source": [
    "`lista_I` $\\Rightarrow$ *lista de tweets irrelevantes já limpos para teste*"
   ]
  },
  {
   "cell_type": "code",
   "execution_count": null,
   "metadata": {},
   "outputs": [],
   "source": [
    "lista_I=[]\n",
    "for e in lista_I_teste:\n",
    "    e = e.lower()\n",
    "    texto_split_emoji_teste = get_emoji_regexp().split(e)\n",
    "    texto_split_whitespace_teste = [substr.split() for substr in texto_split_emoji_teste]\n",
    "    list_teste = functools.reduce(operator.concat, texto_split_whitespace_teste)\n",
    "    lista_I.append(list_teste)"
   ]
  },
  {
   "cell_type": "markdown",
   "metadata": {},
   "source": [
    "***"
   ]
  },
  {
   "cell_type": "markdown",
   "metadata": {},
   "source": [
    "****\n",
    "> <code style=\"background:darkblue;color:white\">Testando cassificador</code>"
   ]
  },
  {
   "cell_type": "markdown",
   "metadata": {},
   "source": [
    "<mark>*Teste dos tweets relevantes*</mark>"
   ]
  },
  {
   "cell_type": "code",
   "execution_count": null,
   "metadata": {},
   "outputs": [],
   "source": [
    "## Teste dos tweets relevantes\n",
    "resultado_classificador_R = []\n",
    "hipotese_melhoria = []\n",
    "\n",
    "k = 0\n",
    "\n",
    "#probabilidade da mensagem ser relevante/irrelevante\n",
    "prob_msg_relevante = 1      \n",
    "prob_msg_irrelevante = 1\n",
    "\n",
    "#Contagem de mensagens relevantes/irrelevantes\n",
    "relevantes_corretas = 0\n",
    "falso_negativo = 0\n",
    "\n",
    "while k < len(lista_R):\n",
    "    for palavra in lista_R[k]:\n",
    "        #Produto das probabilidades de cada palavra do tweet\n",
    "        #Caso a palavra faça parte do vocabulário de Treinamento\n",
    "        try:\n",
    "            prob_palavra_dado_r = df_prob.loc[palavra]['P(palavra|Relevante)']\n",
    "            prob_palavra_dado_i = df_prob.loc[palavra]['P(palavra|Irrelevante)']\n",
    "                \n",
    "        #Exceção: caso a palavra não conste no vocabulário obtido no Treinamento, deve ter sua prob = 1/(total de palavras + vocabulario)\n",
    "        except:\n",
    "            prob_palavra_dado_r = laplace_R\n",
    "            prob_palavra_dado_i = laplace_I\n",
    "\n",
    "        prob_msg_relevante = prob_msg_relevante*prob_palavra_dado_r\n",
    "        prob_msg_irrelevante = prob_msg_irrelevante*prob_palavra_dado_i\n",
    "        \n",
    "    #Após as multiplicações das probabilidades das palavras, devemos multiplicar por P(Relevante) e P(Irrelevante)\n",
    "    prob_msg_relevante = prob_msg_relevante*prob_relevante\n",
    "    prob_msg_irrelevante = prob_msg_irrelevante*prob_irrelevante\n",
    "    \n",
    "    #Classificação: se P(tweet|R).P(R) > P(tweet|I).P(I), então classificamos como Relevante.\n",
    "    if prob_msg_relevante > prob_msg_irrelevante:\n",
    "        relevantes_corretas+=1\n",
    "        resultado_classificador_R.append(\"Relevante\")\n",
    "    else:\n",
    "        falso_negativo+=1\n",
    "        resultado_classificador_R.append(\"Irrelevante\")\n",
    "    \n",
    "    hipotese_melhoria.append(prob_msg_relevante/prob_msg_irrelevante)\n",
    "    \n",
    "    k+=1\n",
    "    #Após classificar um tweet, as probabilidades devemos reatribuir 1 para as probabilidades\n",
    "    prob_msg_relevante = 1\n",
    "    prob_msg_irrelevante = 1\n",
    "\n",
    "print(\"O teste apresentou \", relevantes_corretas, \n",
    "      \" mensagens relevantes corretamente identificadas e \", falso_negativo, \" falso(s) negativo(s)\")"
   ]
  },
  {
   "cell_type": "markdown",
   "metadata": {},
   "source": [
    "<mark>*Teste dos tweets irrelevantes*</mark>"
   ]
  },
  {
   "cell_type": "code",
   "execution_count": 33,
   "metadata": {},
   "outputs": [
    {
     "name": "stdout",
     "output_type": "stream",
     "text": [
      "O teste apresentou  52  mensagens irrelevantes corretamente identificadas e  82  falso(s) positivo(s)\n"
     ]
    }
   ],
   "source": [
    "## Teste dos tweets Irrelevantes\n",
    "resultado_classificador_I = []\n",
    "\n",
    "k = 0\n",
    "\n",
    "#probabilidade da mensagem ser relevante/irrelevante\n",
    "prob_msg_relevante = 1      \n",
    "prob_msg_irrelevante = 1\n",
    "\n",
    "#Contagem de mensagens relevantes/irrelevantes\n",
    "irrelevantes_corretas = 0\n",
    "falso_positivo = 0\n",
    "\n",
    "while k < len(lista_I):\n",
    "    for palavra in lista_I[k]:\n",
    "        #Produto das probabilidades de cada palavra do tweet\n",
    "        #Caso a palavra faça parte do vocabulário de Treinamento\n",
    "        try:\n",
    "            prob_palavra_dado_r = df_prob.loc[palavra]['P(palavra|Relevante)']\n",
    "            prob_palavra_dado_i = df_prob.loc[palavra]['P(palavra|Irrelevante)']\n",
    "                \n",
    "        #Exceção: caso a palavra não conste no vocabulário obtido no Treinamento, deve ter sua prob = 1/(total de palavras + vocabulario)\n",
    "        except:\n",
    "            prob_palavra_dado_r = laplace_R\n",
    "            prob_palavra_dado_i = laplace_I\n",
    "\n",
    "        prob_msg_relevante = prob_msg_relevante*prob_palavra_dado_r\n",
    "        prob_msg_irrelevante = prob_msg_irrelevante*prob_palavra_dado_i\n",
    "        \n",
    "    #Após as multiplicações das probabilidades das palavras, devemos multiplicar por P(Relevante) e P(Irrelevante)\n",
    "    prob_msg_relevante = prob_msg_relevante*prob_relevante\n",
    "    prob_msg_irrelevante = prob_msg_irrelevante*prob_irrelevante\n",
    "    \n",
    "    #Classificação: se P(tweet|R).P(R) > P(tweet|I).P(I), então classificamos como Relevante.\n",
    "    if prob_msg_relevante > prob_msg_irrelevante:\n",
    "        falso_positivo+=1\n",
    "        resultado_classificador_I.append(\"Relevante\")\n",
    "    else:\n",
    "        irrelevantes_corretas+=1\n",
    "        resultado_classificador_I.append(\"Irrelevante\")\n",
    "    \n",
    "    hipotese_melhoria.append(prob_msg_relevante/prob_msg_irrelevante)\n",
    "    \n",
    "    k+=1\n",
    "    #Após classificar um tweet, as probabilidades devemos reatribuir 1 para as probabilidades\n",
    "    prob_msg_relevante = 1\n",
    "    prob_msg_irrelevante = 1\n",
    "\n",
    "print(\"O teste apresentou \", irrelevantes_corretas, \n",
    "      \" mensagens irrelevantes corretamente identificadas e \", falso_positivo, \" falso(s) positivo(s)\")"
   ]
  },
  {
   "cell_type": "markdown",
   "metadata": {},
   "source": [
    "<mark>*Cálculo das porcentagens do Classificador*</mark>"
   ]
  },
  {
   "cell_type": "raw",
   "metadata": {},
   "source": [
    "✓ Porcentagem de verdadeiros positivos (mensagens relevantes e que são classificadas como relevantes)\n",
    "✓ Porcentagem de falsos positivos (mensagens irrelevantes e que são classificadas como relevantes)\n",
    "✓ Porcentagem de verdadeiros negativos (mensagens irrelevantes e que são classificadas como irrelevantes)\n",
    "✓ Porcentagem de falsos negativos (mensagens relevantes e que são classificadas como irrelevantes)"
   ]
  },
  {
   "cell_type": "code",
   "execution_count": 34,
   "metadata": {},
   "outputs": [
    {
     "name": "stdout",
     "output_type": "stream",
     "text": [
      "31.4% de Verdadeiros Positivos\n",
      "22.0% de Verdadeiros Negativos\n",
      "11.9% de Falsos Negativos\n",
      "34.7% de Falsos Positivos\n"
     ]
    }
   ],
   "source": [
    "total_teste = len(lista_R) + len(lista_I)\n",
    "porc_positivos_corretos = relevantes_corretas/total_teste\n",
    "porc_negativos_corretos = irrelevantes_corretas/total_teste\n",
    "porc_falso_negativo = falso_negativo/total_teste\n",
    "porc_falso_positivo = falso_positivo/total_teste\n",
    "\n",
    "print('{:.1%}'.format(porc_positivos_corretos), \"de Verdadeiros Positivos\")\n",
    "print('{:.1%}'.format(porc_negativos_corretos), \"de Verdadeiros Negativos\")\n",
    "print('{:.1%}'.format(porc_falso_negativo), \"de Falsos Negativos\")\n",
    "print('{:.1%}'.format(porc_falso_positivo), \"de Falsos Positivos\")"
   ]
  },
  {
   "cell_type": "markdown",
   "metadata": {},
   "source": [
    "***"
   ]
  },
  {
   "cell_type": "markdown",
   "metadata": {},
   "source": [
    "___\n",
    "# <kbd><code style=\"font-family:Times New Roman;background:black;color:white\">Concluindo</code></kbd>"
   ]
  },
  {
   "cell_type": "markdown",
   "metadata": {},
   "source": [
    "*Neste artigo, foi feito uma análise de sentimento sobre a opinião do público em geral sobre o iPhone 12. Para obter essas informações, foram coletados tweets que mencionavam o produto e para obter um resultado mais específico, foi seguida a pergunta: Quais recursos poderiam ser melhorados para o lançamento do próximo iPhone?*\n",
    "\n",
    "*De acordo com o problema, o banco de dados foi dividido em duas categorias: relevante e irrelevante. Os tweets relevantes incluem aqueles com feedback que irão aumentar os pontos fortes e fracos do produto; aqueles que não respondem as perguntas são irrelevantes. Este processo é feito com base em treinamento e teste. Inicia-se a divisão baseando-se na base de treinamento, na qual já tinham as divisões e poderia compilar os cálculos a partir delas, portanto não poderia utilizar o classificador para gerar amostras na base de treinamento, o que afetaria os resultados, pois o valores foram retirados de lá para treinar o programa.*\n",
    "\n",
    "*O classificador teve uma acurácia de 53,4%, ou seja, a classe que foram colocados os tweets foram iguais a categoria que o programa colocou em 53,4% dos casos.*\n",
    "\n",
    "*O classificador obteve um desempenho melhor ao classificar mensagens como irrelevante do que como relevante,\n",
    "sendo que a porcentagem de verdadeiros negativos foi maior do que a de falsos negativos o contrário do que aconteceu\n",
    "com as mensagens relevantes em que a porcentagem de verdadeiros positivos foi maior que a de falsos positivos*\n",
    "\n",
    "*Possibilidade de Aperfeiçoamento: De acordo com o texto 'Naive Bayes and Text Classification I', de Sebastian Raschka, incluído nas referências do projeto, poderia remover palavras que são muito frequentes mas não são informativas (chamadas Stop Words e descritas no item 3.2.1 na página 14).*\n",
    "\n",
    "*Naive Bayes pode ser usado em várias ocasiões, não apenas para classificar tweets, mas também para avaliar a probabilidade de eventos. Um exemplo de aplicação muito comum é identificar se um determinado e-mail é spam ou não. Outro exemplo é uma instituição financeira que usa software de mineração de dados para identificar se seus clientes em potencial estão em risco “baixo”, “médio” ou “alto” para conceder financiamento imobiliário.*"
   ]
  },
  {
   "cell_type": "markdown",
   "metadata": {},
   "source": [
    "___\n",
    "# <kbd><code style=\"font-family:Times New Roman;background:black;color:white\"> Qualidade do Classificador a partir de novas separações dos tweets entre Treinamento e Teste</code></kbd>\n"
   ]
  },
  {
   "cell_type": "code",
   "execution_count": 35,
   "metadata": {},
   "outputs": [],
   "source": [
    "def embaralhar():\n",
    "    relacao_colunas = {'Teste':'Treinamento'}\n",
    "    df_teste_treinamento = pd.concat([train, test.rename(columns=relacao_colunas)])\n",
    "    df_embaralhado=df_teste_treinamento.sample(frac=1).reset_index(drop=True)\n",
    "    return df_embaralhado"
   ]
  },
  {
   "cell_type": "code",
   "execution_count": 36,
   "metadata": {},
   "outputs": [],
   "source": [
    "lista_acertos_relevantes=[]\n",
    "lista_acertos_irrelevantes=[]"
   ]
  },
  {
   "cell_type": "code",
   "execution_count": 37,
   "metadata": {},
   "outputs": [
    {
     "name": "stdout",
     "output_type": "stream",
     "text": [
      "______________________________________________________\n",
      "41.9% de Verdadeiros Positivos\n",
      "42.8% de Verdadeiros Negativos\n",
      "5.5% de Falsos Negativos\n",
      "9.7% de Falsos Positivos\n",
      "______________________________________________________\n",
      "______________________________________________________\n",
      "44.9% de Verdadeiros Positivos\n",
      "45.8% de Verdadeiros Negativos\n",
      "3.4% de Falsos Negativos\n",
      "5.9% de Falsos Positivos\n",
      "______________________________________________________\n",
      "______________________________________________________\n",
      "44.9% de Verdadeiros Positivos\n",
      "50.0% de Verdadeiros Negativos\n",
      "1.3% de Falsos Negativos\n",
      "3.8% de Falsos Positivos\n",
      "______________________________________________________\n",
      "______________________________________________________\n",
      "41.5% de Verdadeiros Positivos\n",
      "52.1% de Verdadeiros Negativos\n",
      "2.1% de Falsos Negativos\n",
      "4.2% de Falsos Positivos\n",
      "______________________________________________________\n",
      "______________________________________________________\n",
      "45.8% de Verdadeiros Positivos\n",
      "50.4% de Verdadeiros Negativos\n",
      "1.7% de Falsos Negativos\n",
      "2.1% de Falsos Positivos\n",
      "______________________________________________________\n",
      "______________________________________________________\n",
      "43.2% de Verdadeiros Positivos\n",
      "53.8% de Verdadeiros Negativos\n",
      "0.4% de Falsos Negativos\n",
      "2.5% de Falsos Positivos\n",
      "______________________________________________________\n",
      "______________________________________________________\n",
      "37.7% de Verdadeiros Positivos\n",
      "55.9% de Verdadeiros Negativos\n",
      "5.5% de Falsos Negativos\n",
      "0.8% de Falsos Positivos\n",
      "______________________________________________________\n",
      "______________________________________________________\n",
      "37.7% de Verdadeiros Positivos\n",
      "58.1% de Verdadeiros Negativos\n",
      "3.0% de Falsos Negativos\n",
      "1.3% de Falsos Positivos\n",
      "______________________________________________________\n",
      "______________________________________________________\n",
      "34.7% de Verdadeiros Positivos\n",
      "63.1% de Verdadeiros Negativos\n",
      "1.3% de Falsos Negativos\n",
      "0.8% de Falsos Positivos\n",
      "______________________________________________________\n",
      "______________________________________________________\n",
      "33.1% de Verdadeiros Positivos\n",
      "64.4% de Verdadeiros Negativos\n",
      "1.7% de Falsos Negativos\n",
      "0.8% de Falsos Positivos\n",
      "______________________________________________________\n",
      "______________________________________________________\n",
      "32.6% de Verdadeiros Positivos\n",
      "66.5% de Verdadeiros Negativos\n",
      "0.0% de Falsos Negativos\n",
      "0.8% de Falsos Positivos\n",
      "______________________________________________________\n",
      "______________________________________________________\n",
      "31.8% de Verdadeiros Positivos\n",
      "66.1% de Verdadeiros Negativos\n",
      "1.3% de Falsos Negativos\n",
      "0.8% de Falsos Positivos\n",
      "______________________________________________________\n",
      "______________________________________________________\n",
      "30.1% de Verdadeiros Positivos\n",
      "67.8% de Verdadeiros Negativos\n",
      "0.8% de Falsos Negativos\n",
      "1.3% de Falsos Positivos\n",
      "______________________________________________________\n",
      "______________________________________________________\n",
      "29.2% de Verdadeiros Positivos\n",
      "68.6% de Verdadeiros Negativos\n",
      "1.3% de Falsos Negativos\n",
      "0.8% de Falsos Positivos\n",
      "______________________________________________________\n",
      "______________________________________________________\n",
      "25.4% de Verdadeiros Positivos\n",
      "74.2% de Verdadeiros Negativos\n",
      "0.4% de Falsos Negativos\n",
      "0.0% de Falsos Positivos\n",
      "______________________________________________________\n",
      "______________________________________________________\n",
      "28.8% de Verdadeiros Positivos\n",
      "71.2% de Verdadeiros Negativos\n",
      "0.0% de Falsos Negativos\n",
      "0.0% de Falsos Positivos\n",
      "______________________________________________________\n",
      "______________________________________________________\n",
      "25.8% de Verdadeiros Positivos\n",
      "73.7% de Verdadeiros Negativos\n",
      "0.0% de Falsos Negativos\n",
      "0.4% de Falsos Positivos\n",
      "______________________________________________________\n",
      "______________________________________________________\n",
      "25.4% de Verdadeiros Positivos\n",
      "74.6% de Verdadeiros Negativos\n",
      "0.0% de Falsos Negativos\n",
      "0.0% de Falsos Positivos\n",
      "______________________________________________________\n",
      "______________________________________________________\n",
      "23.3% de Verdadeiros Positivos\n",
      "76.7% de Verdadeiros Negativos\n",
      "0.0% de Falsos Negativos\n",
      "0.0% de Falsos Positivos\n",
      "______________________________________________________\n",
      "______________________________________________________\n",
      "24.6% de Verdadeiros Positivos\n",
      "75.4% de Verdadeiros Negativos\n",
      "0.0% de Falsos Negativos\n",
      "0.0% de Falsos Positivos\n",
      "______________________________________________________\n",
      "______________________________________________________\n",
      "21.6% de Verdadeiros Positivos\n",
      "78.0% de Verdadeiros Negativos\n",
      "0.0% de Falsos Negativos\n",
      "0.4% de Falsos Positivos\n",
      "______________________________________________________\n",
      "______________________________________________________\n",
      "23.3% de Verdadeiros Positivos\n",
      "76.7% de Verdadeiros Negativos\n",
      "0.0% de Falsos Negativos\n",
      "0.0% de Falsos Positivos\n",
      "______________________________________________________\n",
      "______________________________________________________\n",
      "21.2% de Verdadeiros Positivos\n",
      "78.8% de Verdadeiros Negativos\n",
      "0.0% de Falsos Negativos\n",
      "0.0% de Falsos Positivos\n",
      "______________________________________________________\n",
      "______________________________________________________\n",
      "19.5% de Verdadeiros Positivos\n",
      "80.1% de Verdadeiros Negativos\n",
      "0.0% de Falsos Negativos\n",
      "0.4% de Falsos Positivos\n",
      "______________________________________________________\n",
      "______________________________________________________\n",
      "19.1% de Verdadeiros Positivos\n",
      "79.2% de Verdadeiros Negativos\n",
      "0.0% de Falsos Negativos\n",
      "1.7% de Falsos Positivos\n",
      "______________________________________________________\n",
      "______________________________________________________\n",
      "13.1% de Verdadeiros Positivos\n",
      "86.0% de Verdadeiros Negativos\n",
      "0.0% de Falsos Negativos\n",
      "0.8% de Falsos Positivos\n",
      "______________________________________________________\n",
      "______________________________________________________\n",
      "15.7% de Verdadeiros Positivos\n",
      "82.6% de Verdadeiros Negativos\n",
      "0.0% de Falsos Negativos\n",
      "1.7% de Falsos Positivos\n",
      "______________________________________________________\n",
      "______________________________________________________\n",
      "20.3% de Verdadeiros Positivos\n",
      "78.4% de Verdadeiros Negativos\n",
      "0.0% de Falsos Negativos\n",
      "1.3% de Falsos Positivos\n",
      "______________________________________________________\n",
      "______________________________________________________\n",
      "16.1% de Verdadeiros Positivos\n",
      "83.5% de Verdadeiros Negativos\n",
      "0.4% de Falsos Negativos\n",
      "0.0% de Falsos Positivos\n",
      "______________________________________________________\n",
      "______________________________________________________\n",
      "19.1% de Verdadeiros Positivos\n",
      "80.9% de Verdadeiros Negativos\n",
      "0.0% de Falsos Negativos\n",
      "0.0% de Falsos Positivos\n",
      "______________________________________________________\n",
      "______________________________________________________\n",
      "21.2% de Verdadeiros Positivos\n",
      "78.4% de Verdadeiros Negativos\n",
      "0.0% de Falsos Negativos\n",
      "0.4% de Falsos Positivos\n",
      "______________________________________________________\n",
      "______________________________________________________\n",
      "19.9% de Verdadeiros Positivos\n",
      "80.1% de Verdadeiros Negativos\n",
      "0.0% de Falsos Negativos\n",
      "0.0% de Falsos Positivos\n",
      "______________________________________________________\n",
      "______________________________________________________\n",
      "24.2% de Verdadeiros Positivos\n",
      "75.8% de Verdadeiros Negativos\n",
      "0.0% de Falsos Negativos\n",
      "0.0% de Falsos Positivos\n",
      "______________________________________________________\n",
      "______________________________________________________\n",
      "15.3% de Verdadeiros Positivos\n",
      "83.9% de Verdadeiros Negativos\n",
      "0.0% de Falsos Negativos\n",
      "0.8% de Falsos Positivos\n",
      "______________________________________________________\n",
      "______________________________________________________\n",
      "16.5% de Verdadeiros Positivos\n",
      "83.5% de Verdadeiros Negativos\n",
      "0.0% de Falsos Negativos\n",
      "0.0% de Falsos Positivos\n",
      "______________________________________________________\n",
      "______________________________________________________\n",
      "18.2% de Verdadeiros Positivos\n",
      "81.8% de Verdadeiros Negativos\n",
      "0.0% de Falsos Negativos\n",
      "0.0% de Falsos Positivos\n",
      "______________________________________________________\n",
      "______________________________________________________\n",
      "16.9% de Verdadeiros Positivos\n",
      "82.6% de Verdadeiros Negativos\n",
      "0.0% de Falsos Negativos\n",
      "0.4% de Falsos Positivos\n",
      "______________________________________________________\n",
      "______________________________________________________\n",
      "14.8% de Verdadeiros Positivos\n",
      "84.7% de Verdadeiros Negativos\n",
      "0.0% de Falsos Negativos\n",
      "0.4% de Falsos Positivos\n",
      "______________________________________________________\n",
      "______________________________________________________\n",
      "14.0% de Verdadeiros Positivos\n",
      "84.7% de Verdadeiros Negativos\n",
      "0.0% de Falsos Negativos\n",
      "1.3% de Falsos Positivos\n",
      "______________________________________________________\n",
      "______________________________________________________\n",
      "12.7% de Verdadeiros Positivos\n",
      "87.3% de Verdadeiros Negativos\n",
      "0.0% de Falsos Negativos\n",
      "0.0% de Falsos Positivos\n",
      "______________________________________________________\n",
      "______________________________________________________\n",
      "17.8% de Verdadeiros Positivos\n",
      "82.2% de Verdadeiros Negativos\n",
      "0.0% de Falsos Negativos\n",
      "0.0% de Falsos Positivos\n",
      "______________________________________________________\n",
      "______________________________________________________\n",
      "14.4% de Verdadeiros Positivos\n",
      "85.6% de Verdadeiros Negativos\n",
      "0.0% de Falsos Negativos\n",
      "0.0% de Falsos Positivos\n",
      "______________________________________________________\n",
      "______________________________________________________\n",
      "16.9% de Verdadeiros Positivos\n",
      "83.1% de Verdadeiros Negativos\n",
      "0.0% de Falsos Negativos\n",
      "0.0% de Falsos Positivos\n",
      "______________________________________________________\n",
      "______________________________________________________\n",
      "14.4% de Verdadeiros Positivos\n",
      "84.3% de Verdadeiros Negativos\n",
      "0.0% de Falsos Negativos\n",
      "1.3% de Falsos Positivos\n",
      "______________________________________________________\n",
      "______________________________________________________\n",
      "13.6% de Verdadeiros Positivos\n",
      "85.2% de Verdadeiros Negativos\n",
      "0.0% de Falsos Negativos\n",
      "1.3% de Falsos Positivos\n",
      "______________________________________________________\n",
      "______________________________________________________\n",
      "16.1% de Verdadeiros Positivos\n",
      "83.5% de Verdadeiros Negativos\n",
      "0.0% de Falsos Negativos\n",
      "0.4% de Falsos Positivos\n",
      "______________________________________________________\n",
      "______________________________________________________\n",
      "17.8% de Verdadeiros Positivos\n",
      "82.2% de Verdadeiros Negativos\n",
      "0.0% de Falsos Negativos\n",
      "0.0% de Falsos Positivos\n",
      "______________________________________________________\n",
      "______________________________________________________\n",
      "19.5% de Verdadeiros Positivos\n",
      "80.5% de Verdadeiros Negativos\n",
      "0.0% de Falsos Negativos\n",
      "0.0% de Falsos Positivos\n",
      "______________________________________________________\n",
      "______________________________________________________\n",
      "16.9% de Verdadeiros Positivos\n",
      "83.1% de Verdadeiros Negativos\n",
      "0.0% de Falsos Negativos\n",
      "0.0% de Falsos Positivos\n",
      "______________________________________________________\n",
      "______________________________________________________\n",
      "21.6% de Verdadeiros Positivos\n",
      "78.4% de Verdadeiros Negativos\n",
      "0.0% de Falsos Negativos\n",
      "0.0% de Falsos Positivos\n",
      "______________________________________________________\n",
      "______________________________________________________\n",
      "18.6% de Verdadeiros Positivos\n",
      "81.4% de Verdadeiros Negativos\n",
      "0.0% de Falsos Negativos\n",
      "0.0% de Falsos Positivos\n",
      "______________________________________________________\n",
      "______________________________________________________\n",
      "18.6% de Verdadeiros Positivos\n",
      "81.4% de Verdadeiros Negativos\n",
      "0.0% de Falsos Negativos\n",
      "0.0% de Falsos Positivos\n",
      "______________________________________________________\n",
      "______________________________________________________\n",
      "16.5% de Verdadeiros Positivos\n",
      "83.5% de Verdadeiros Negativos\n",
      "0.0% de Falsos Negativos\n",
      "0.0% de Falsos Positivos\n",
      "______________________________________________________\n",
      "______________________________________________________\n",
      "19.5% de Verdadeiros Positivos\n",
      "80.5% de Verdadeiros Negativos\n",
      "0.0% de Falsos Negativos\n",
      "0.0% de Falsos Positivos\n",
      "______________________________________________________\n",
      "______________________________________________________\n",
      "18.6% de Verdadeiros Positivos\n",
      "81.4% de Verdadeiros Negativos\n",
      "0.0% de Falsos Negativos\n",
      "0.0% de Falsos Positivos\n",
      "______________________________________________________\n",
      "______________________________________________________\n",
      "17.4% de Verdadeiros Positivos\n",
      "82.6% de Verdadeiros Negativos\n",
      "0.0% de Falsos Negativos\n",
      "0.0% de Falsos Positivos\n",
      "______________________________________________________\n",
      "______________________________________________________\n",
      "15.7% de Verdadeiros Positivos\n",
      "84.3% de Verdadeiros Negativos\n",
      "0.0% de Falsos Negativos\n",
      "0.0% de Falsos Positivos\n",
      "______________________________________________________\n",
      "______________________________________________________\n",
      "16.9% de Verdadeiros Positivos\n",
      "83.1% de Verdadeiros Negativos\n",
      "0.0% de Falsos Negativos\n",
      "0.0% de Falsos Positivos\n",
      "______________________________________________________\n",
      "______________________________________________________\n",
      "12.7% de Verdadeiros Positivos\n",
      "87.3% de Verdadeiros Negativos\n",
      "0.0% de Falsos Negativos\n",
      "0.0% de Falsos Positivos\n",
      "______________________________________________________\n",
      "______________________________________________________\n",
      "14.0% de Verdadeiros Positivos\n",
      "83.9% de Verdadeiros Negativos\n",
      "0.0% de Falsos Negativos\n",
      "2.1% de Falsos Positivos\n",
      "______________________________________________________\n",
      "______________________________________________________\n",
      "16.9% de Verdadeiros Positivos\n",
      "82.2% de Verdadeiros Negativos\n",
      "0.0% de Falsos Negativos\n",
      "0.8% de Falsos Positivos\n",
      "______________________________________________________\n",
      "______________________________________________________\n",
      "14.0% de Verdadeiros Positivos\n",
      "84.3% de Verdadeiros Negativos\n",
      "0.0% de Falsos Negativos\n",
      "1.7% de Falsos Positivos\n",
      "______________________________________________________\n",
      "______________________________________________________\n",
      "12.3% de Verdadeiros Positivos\n",
      "87.3% de Verdadeiros Negativos\n",
      "0.0% de Falsos Negativos\n",
      "0.4% de Falsos Positivos\n",
      "______________________________________________________\n",
      "______________________________________________________\n",
      "11.4% de Verdadeiros Positivos\n",
      "88.1% de Verdadeiros Negativos\n",
      "0.0% de Falsos Negativos\n",
      "0.4% de Falsos Positivos\n",
      "______________________________________________________\n",
      "______________________________________________________\n",
      "13.1% de Verdadeiros Positivos\n",
      "86.4% de Verdadeiros Negativos\n",
      "0.0% de Falsos Negativos\n",
      "0.4% de Falsos Positivos\n",
      "______________________________________________________\n",
      "______________________________________________________\n",
      "11.4% de Verdadeiros Positivos\n",
      "87.7% de Verdadeiros Negativos\n",
      "0.0% de Falsos Negativos\n",
      "0.8% de Falsos Positivos\n",
      "______________________________________________________\n",
      "______________________________________________________\n",
      "11.4% de Verdadeiros Positivos\n",
      "87.7% de Verdadeiros Negativos\n",
      "0.0% de Falsos Negativos\n",
      "0.8% de Falsos Positivos\n",
      "______________________________________________________\n",
      "______________________________________________________\n",
      "11.0% de Verdadeiros Positivos\n",
      "88.6% de Verdadeiros Negativos\n",
      "0.0% de Falsos Negativos\n",
      "0.4% de Falsos Positivos\n",
      "______________________________________________________\n",
      "______________________________________________________\n",
      "12.3% de Verdadeiros Positivos\n",
      "87.7% de Verdadeiros Negativos\n",
      "0.0% de Falsos Negativos\n",
      "0.0% de Falsos Positivos\n",
      "______________________________________________________\n",
      "______________________________________________________\n",
      "11.4% de Verdadeiros Positivos\n",
      "88.6% de Verdadeiros Negativos\n",
      "0.0% de Falsos Negativos\n",
      "0.0% de Falsos Positivos\n",
      "______________________________________________________\n",
      "______________________________________________________\n",
      "12.3% de Verdadeiros Positivos\n",
      "87.7% de Verdadeiros Negativos\n",
      "0.0% de Falsos Negativos\n",
      "0.0% de Falsos Positivos\n",
      "______________________________________________________\n",
      "______________________________________________________\n",
      "15.3% de Verdadeiros Positivos\n",
      "84.7% de Verdadeiros Negativos\n",
      "0.0% de Falsos Negativos\n",
      "0.0% de Falsos Positivos\n",
      "______________________________________________________\n",
      "______________________________________________________\n",
      "13.1% de Verdadeiros Positivos\n",
      "86.9% de Verdadeiros Negativos\n",
      "0.0% de Falsos Negativos\n",
      "0.0% de Falsos Positivos\n",
      "______________________________________________________\n",
      "______________________________________________________\n",
      "12.3% de Verdadeiros Positivos\n",
      "87.7% de Verdadeiros Negativos\n",
      "0.0% de Falsos Negativos\n",
      "0.0% de Falsos Positivos\n",
      "______________________________________________________\n",
      "______________________________________________________\n",
      "11.9% de Verdadeiros Positivos\n",
      "88.1% de Verdadeiros Negativos\n",
      "0.0% de Falsos Negativos\n",
      "0.0% de Falsos Positivos\n",
      "______________________________________________________\n",
      "______________________________________________________\n",
      "13.1% de Verdadeiros Positivos\n",
      "86.9% de Verdadeiros Negativos\n",
      "0.0% de Falsos Negativos\n",
      "0.0% de Falsos Positivos\n",
      "______________________________________________________\n",
      "______________________________________________________\n",
      "13.1% de Verdadeiros Positivos\n",
      "86.9% de Verdadeiros Negativos\n",
      "0.0% de Falsos Negativos\n",
      "0.0% de Falsos Positivos\n",
      "______________________________________________________\n",
      "______________________________________________________\n",
      "13.1% de Verdadeiros Positivos\n",
      "86.9% de Verdadeiros Negativos\n",
      "0.0% de Falsos Negativos\n",
      "0.0% de Falsos Positivos\n",
      "______________________________________________________\n",
      "______________________________________________________\n",
      "13.1% de Verdadeiros Positivos\n",
      "86.9% de Verdadeiros Negativos\n",
      "0.0% de Falsos Negativos\n",
      "0.0% de Falsos Positivos\n",
      "______________________________________________________\n",
      "______________________________________________________\n",
      "16.1% de Verdadeiros Positivos\n",
      "83.9% de Verdadeiros Negativos\n",
      "0.0% de Falsos Negativos\n",
      "0.0% de Falsos Positivos\n",
      "______________________________________________________\n",
      "______________________________________________________\n",
      "14.4% de Verdadeiros Positivos\n",
      "85.6% de Verdadeiros Negativos\n",
      "0.0% de Falsos Negativos\n",
      "0.0% de Falsos Positivos\n",
      "______________________________________________________\n",
      "______________________________________________________\n",
      "14.8% de Verdadeiros Positivos\n",
      "85.2% de Verdadeiros Negativos\n",
      "0.0% de Falsos Negativos\n",
      "0.0% de Falsos Positivos\n",
      "______________________________________________________\n",
      "______________________________________________________\n",
      "14.8% de Verdadeiros Positivos\n",
      "85.2% de Verdadeiros Negativos\n",
      "0.0% de Falsos Negativos\n",
      "0.0% de Falsos Positivos\n",
      "______________________________________________________\n",
      "______________________________________________________\n",
      "14.8% de Verdadeiros Positivos\n",
      "85.2% de Verdadeiros Negativos\n",
      "0.0% de Falsos Negativos\n",
      "0.0% de Falsos Positivos\n",
      "______________________________________________________\n",
      "______________________________________________________\n",
      "15.3% de Verdadeiros Positivos\n",
      "84.7% de Verdadeiros Negativos\n",
      "0.0% de Falsos Negativos\n",
      "0.0% de Falsos Positivos\n",
      "______________________________________________________\n",
      "______________________________________________________\n",
      "13.6% de Verdadeiros Positivos\n",
      "86.4% de Verdadeiros Negativos\n",
      "0.0% de Falsos Negativos\n",
      "0.0% de Falsos Positivos\n",
      "______________________________________________________\n",
      "______________________________________________________\n",
      "10.6% de Verdadeiros Positivos\n",
      "89.4% de Verdadeiros Negativos\n",
      "0.0% de Falsos Negativos\n",
      "0.0% de Falsos Positivos\n",
      "______________________________________________________\n",
      "______________________________________________________\n",
      "10.2% de Verdadeiros Positivos\n",
      "89.8% de Verdadeiros Negativos\n",
      "0.0% de Falsos Negativos\n",
      "0.0% de Falsos Positivos\n",
      "______________________________________________________\n",
      "______________________________________________________\n",
      "9.7% de Verdadeiros Positivos\n",
      "90.3% de Verdadeiros Negativos\n",
      "0.0% de Falsos Negativos\n",
      "0.0% de Falsos Positivos\n",
      "______________________________________________________\n",
      "______________________________________________________\n",
      "11.0% de Verdadeiros Positivos\n",
      "89.0% de Verdadeiros Negativos\n",
      "0.0% de Falsos Negativos\n",
      "0.0% de Falsos Positivos\n",
      "______________________________________________________\n",
      "______________________________________________________\n",
      "11.9% de Verdadeiros Positivos\n",
      "88.1% de Verdadeiros Negativos\n",
      "0.0% de Falsos Negativos\n",
      "0.0% de Falsos Positivos\n",
      "______________________________________________________\n",
      "______________________________________________________\n",
      "13.1% de Verdadeiros Positivos\n",
      "86.9% de Verdadeiros Negativos\n",
      "0.0% de Falsos Negativos\n",
      "0.0% de Falsos Positivos\n",
      "______________________________________________________\n",
      "______________________________________________________\n",
      "9.7% de Verdadeiros Positivos\n",
      "90.3% de Verdadeiros Negativos\n",
      "0.0% de Falsos Negativos\n",
      "0.0% de Falsos Positivos\n",
      "______________________________________________________\n",
      "______________________________________________________\n",
      "8.1% de Verdadeiros Positivos\n",
      "91.1% de Verdadeiros Negativos\n",
      "0.0% de Falsos Negativos\n",
      "0.8% de Falsos Positivos\n",
      "______________________________________________________\n",
      "______________________________________________________\n",
      "8.9% de Verdadeiros Positivos\n",
      "88.6% de Verdadeiros Negativos\n",
      "0.0% de Falsos Negativos\n",
      "2.5% de Falsos Positivos\n",
      "______________________________________________________\n",
      "______________________________________________________\n",
      "9.3% de Verdadeiros Positivos\n",
      "89.8% de Verdadeiros Negativos\n",
      "0.0% de Falsos Negativos\n",
      "0.8% de Falsos Positivos\n",
      "______________________________________________________\n",
      "______________________________________________________\n",
      "7.6% de Verdadeiros Positivos\n",
      "92.4% de Verdadeiros Negativos\n",
      "0.0% de Falsos Negativos\n",
      "0.0% de Falsos Positivos\n",
      "______________________________________________________\n",
      "______________________________________________________\n",
      "8.5% de Verdadeiros Positivos\n",
      "91.5% de Verdadeiros Negativos\n",
      "0.0% de Falsos Negativos\n",
      "0.0% de Falsos Positivos\n",
      "______________________________________________________\n",
      "______________________________________________________\n",
      "10.2% de Verdadeiros Positivos\n",
      "87.3% de Verdadeiros Negativos\n",
      "0.0% de Falsos Negativos\n",
      "2.5% de Falsos Positivos\n",
      "______________________________________________________\n",
      "______________________________________________________\n",
      "11.4% de Verdadeiros Positivos\n",
      "88.1% de Verdadeiros Negativos\n",
      "0.0% de Falsos Negativos\n",
      "0.4% de Falsos Positivos\n",
      "______________________________________________________\n"
     ]
    }
   ],
   "source": [
    "#Essa célula pode levar 3 minutos para carregar\n",
    "for j in range(100):\n",
    "    train=embaralhar().iloc[:300,:]\n",
    "    test=embaralhar().iloc[300:,:]\n",
    "    \n",
    "    lista_T=[] \n",
    "    lista_T = clean_and_replace(train.Treinamento)\n",
    "    texto_total=\"\"\n",
    "    for e in lista_T:\n",
    "        texto_total+= \" \" + e \n",
    "    texto_total = cleanup(texto_total.lower())\n",
    "    filtra_linhas= train['categorias'] == 1\n",
    "    relevante= train.loc[filtra_linhas, :]\n",
    "    lista_R=[]    \n",
    "    lista_R = clean_and_replace(relevante.Treinamento)\n",
    "    texto_R=\"\"\n",
    "    for e in lista_R:\n",
    "        texto_R+= \" \" + e \n",
    "    texto_R = cleanup(texto_R.lower())\n",
    "    filtra_linhas_2 = train['categorias'] == 0\n",
    "    irrelevante= train.loc[filtra_linhas_2, :]\n",
    "    lista_I=[]    \n",
    "    lista_I = clean_and_replace(irrelevante.Treinamento)\n",
    "    texto_I =\"\"   \n",
    "    for e in lista_I:\n",
    "        texto_I += \" \" + e \n",
    "    texto_I = cleanup(texto_I.lower())\n",
    "    texto_split_emoji = get_emoji_regexp().split(texto_total)\n",
    "    texto_split_whitespace = [substr.split() for substr in texto_split_emoji]\n",
    "    texto = functools.reduce(operator.concat, texto_split_whitespace)\n",
    "    texto_split_emoji_R = get_emoji_regexp().split(texto_R)\n",
    "    texto_split_whitespace_R = [substr.split() for substr in texto_split_emoji_R ]\n",
    "    texto_relevante = functools.reduce(operator.concat, texto_split_whitespace_R)\n",
    "    texto_split_emoji_I = get_emoji_regexp().split(texto_I)\n",
    "    texto_split_whitespace_I = [substr.split() for substr in texto_split_emoji_I ]\n",
    "    texto_irrelevante = functools.reduce(operator.concat, texto_split_whitespace_I)\n",
    "    prob_relevante = len(lista_R)/len(lista_T)\n",
    "    prob_irrelevante = len(lista_I)/len(lista_T)\n",
    "    total_texto_relevante = len(texto_relevante)\n",
    "    total_texto_irrelevante = len(texto_irrelevante)\n",
    "    vocabulario = pd.Series(texto).drop_duplicates()\n",
    "    total_por_palavra_R = pd.Series(texto_relevante).value_counts()\n",
    "    total_por_palavra_I = pd.Series(texto_irrelevante).value_counts()\n",
    "    prob_palavras_R=[]\n",
    "    prob_palavras_I=[]\n",
    "\n",
    "    ## Suavização de Laplace: Caso não tenha a palavra no vocabulario\n",
    "    # Probabilidade no conjunto relevante\n",
    "    laplace_R = 1/(total_texto_relevante + len(vocabulario))\n",
    "\n",
    "    #Probabilidade no conjunto irrelevante\n",
    "    laplace_I = 1/(total_texto_irrelevante + len(vocabulario))\n",
    "\n",
    "    #Percorre todo o vocabulario calculando as probabilidades tanto relevante como irrelevante\n",
    "    for palavra in vocabulario:\n",
    "        if palavra in total_por_palavra_R:\n",
    "            prob_r = (total_por_palavra_R[palavra] + 1)/(total_texto_relevante + len(vocabulario))\n",
    "            prob_palavras_R.append(prob_r)\n",
    "        else:\n",
    "            prob_palavras_R.append(laplace_R)\n",
    "\n",
    "        if palavra in total_por_palavra_I:\n",
    "            prob_i = (total_por_palavra_I[palavra] + 1)/(total_texto_irrelevante + len(vocabulario))\n",
    "            prob_palavras_I.append(prob_i)\n",
    "        else:\n",
    "            prob_palavras_I.append(laplace_I)\n",
    "    lista_prob = list(zip(vocabulario,prob_palavras_R,prob_palavras_I))\n",
    "    df_prob_aux = pd.DataFrame(lista_prob, columns = ['Palavra','P(palavra|Relevante)','P(palavra|Irrelevante)'])\n",
    "    df_prob = df_prob_aux.set_index('Palavra')\n",
    "    filtra_linhas_teste= test['categorias'] == 1\n",
    "    relevante_teste= test.loc[filtra_linhas_teste, :]\n",
    "    lista_R_teste = []\n",
    "    lista_R_teste = clean_and_replace(relevante_teste.Treinamento)\n",
    "    filtra_linhas_teste_2 = test['categorias'] == 0\n",
    "    irrelevante_teste= test.loc[filtra_linhas_teste_2, :]\n",
    "    lista_I_teste=[]\n",
    "    lista_I_teste = clean_and_replace(irrelevante_teste.Treinamento)\n",
    "    lista_R=[] \n",
    "    for e in lista_R_teste:\n",
    "        e = e.lower()\n",
    "        texto_split_emoji_teste = get_emoji_regexp().split(e)\n",
    "        texto_split_whitespace_teste = [substr.split() for substr in texto_split_emoji_teste]\n",
    "        list_teste = functools.reduce(operator.concat, texto_split_whitespace_teste)\n",
    "        lista_R.append(list_teste)\n",
    "    lista_I=[]\n",
    "    for e in lista_I_teste:\n",
    "        e = e.lower()\n",
    "        texto_split_emoji_teste = get_emoji_regexp().split(e)\n",
    "        texto_split_whitespace_teste = [substr.split() for substr in texto_split_emoji_teste]\n",
    "        list_teste = functools.reduce(operator.concat, texto_split_whitespace_teste)\n",
    "        lista_I.append(list_teste)\n",
    "    \n",
    "    ## Teste dos tweets relevantes\n",
    "    resultado_classificador_R = []\n",
    "    hipotese_melhoria = []\n",
    "    k = 0\n",
    "\n",
    "    #probabilidade da mensagem ser relevante/irrelevante\n",
    "    prob_msg_relevante = 1      \n",
    "    prob_msg_irrelevante = 1\n",
    "\n",
    "    #Contagem de mensagens relevantes/irrelevantes\n",
    "    relevantes_corretas = 0\n",
    "    falso_negativo = 0\n",
    "\n",
    "    while k < len(lista_R):\n",
    "        for palavra in lista_R[k]:\n",
    "            #Produto das probabilidades de cada palavra do tweet\n",
    "            #Caso a palavra faça parte do vocabulário de Treinamento\n",
    "            try:\n",
    "                prob_palavra_dado_r = df_prob.loc[palavra]['P(palavra|Relevante)']\n",
    "                prob_palavra_dado_i = df_prob.loc[palavra]['P(palavra|Irrelevante)']\n",
    "\n",
    "            #Exceção: caso a palavra não conste no vocabulário obtido no Treinamento, deve ter sua prob = 1/(total de palavras + vocabulario)\n",
    "            except:\n",
    "                prob_palavra_dado_r = laplace_R\n",
    "                prob_palavra_dado_i = laplace_I\n",
    "\n",
    "            prob_msg_relevante = prob_msg_relevante*prob_palavra_dado_r\n",
    "            prob_msg_irrelevante = prob_msg_irrelevante*prob_palavra_dado_i\n",
    "\n",
    "        #Após as multiplicações das probabilidades das palavras, devemos multiplicar por P(Relevante) e P(Irrelevante)\n",
    "        prob_msg_relevante = prob_msg_relevante*prob_relevante\n",
    "        prob_msg_irrelevante = prob_msg_irrelevante*prob_irrelevante\n",
    "\n",
    "        #Classificação: se P(tweet|R).P(R) > P(tweet|I).P(I), então classificamos como Relevante.\n",
    "        if prob_msg_relevante > prob_msg_irrelevante:\n",
    "            relevantes_corretas+=1\n",
    "            resultado_classificador_R.append(\"Relevante\")\n",
    "        else:\n",
    "            falso_negativo+=1\n",
    "            resultado_classificador_R.append(\"Irrelevante\")\n",
    "\n",
    "        hipotese_melhoria.append(prob_msg_relevante/prob_msg_irrelevante)\n",
    "\n",
    "        k+=1\n",
    "        #Após classificar um tweet, as probabilidades devemos reatribuir 1 para as probabilidades\n",
    "        prob_msg_relevante = 1\n",
    "        prob_msg_irrelevante = 1\n",
    "    \n",
    "\n",
    "     ## Teste dos tweets Irrelevantes\n",
    "    resultado_classificador_I = []\n",
    "\n",
    "    k = 0\n",
    "\n",
    "    #probabilidade da mensagem ser relevante/irrelevante\n",
    "    prob_msg_relevante = 1      \n",
    "    prob_msg_irrelevante = 1\n",
    "\n",
    "    #Contagem de mensagens relevantes/irrelevantes\n",
    "    irrelevantes_corretas = 0\n",
    "    falso_positivo = 0\n",
    "\n",
    "    while k < len(lista_I):\n",
    "        for palavra in lista_I[k]:\n",
    "            #Produto das probabilidades de cada palavra do tweet\n",
    "            #Caso a palavra faça parte do vocabulário de Treinamento\n",
    "            try:\n",
    "                prob_palavra_dado_r = df_prob.loc[palavra]['P(palavra|Relevante)']\n",
    "                prob_palavra_dado_i = df_prob.loc[palavra]['P(palavra|Irrelevante)']\n",
    "\n",
    "            #Exceção: caso a palavra não conste no vocabulário obtido no Treinamento, deve ter sua prob = 1/(total de palavras + vocabulario)\n",
    "            except:\n",
    "                prob_palavra_dado_r = laplace_R\n",
    "                prob_palavra_dado_i = laplace_I\n",
    "\n",
    "            prob_msg_relevante = prob_msg_relevante*prob_palavra_dado_r\n",
    "            prob_msg_irrelevante = prob_msg_irrelevante*prob_palavra_dado_i\n",
    "\n",
    "        #Após as multiplicações das probabilidades das palavras, devemos multiplicar por P(Relevante) e P(Irrelevante)\n",
    "        prob_msg_relevante = prob_msg_relevante*prob_relevante\n",
    "        prob_msg_irrelevante = prob_msg_irrelevante*prob_irrelevante\n",
    "\n",
    "        #Classificação: se P(tweet|R).P(R) > P(tweet|I).P(I), então classificamos como Relevante.\n",
    "        if prob_msg_relevante > prob_msg_irrelevante:\n",
    "            falso_positivo+=1\n",
    "            resultado_classificador_I.append(\"Relevante\")\n",
    "        else:\n",
    "            irrelevantes_corretas+=1\n",
    "            resultado_classificador_I.append(\"Irrelevante\")\n",
    "\n",
    "        hipotese_melhoria.append(prob_msg_relevante/prob_msg_irrelevante)\n",
    "\n",
    "        k+=1\n",
    "        #Após classificar um tweet, as probabilidades devemos reatribuir 1 para as probabilidades\n",
    "        prob_msg_relevante = 1\n",
    "        prob_msg_irrelevante = 1\n",
    "    \n",
    "    \n",
    "    total_teste = len(lista_R) + len(lista_I)\n",
    "\n",
    "    porc_positivos_corretos = relevantes_corretas/total_teste\n",
    "    porc_negativos_corretos = irrelevantes_corretas/total_teste\n",
    "    porc_falso_negativo = falso_negativo/total_teste\n",
    "    porc_falso_positivo = falso_positivo/total_teste\n",
    "    \n",
    "    lista_acertos_relevantes.append(porc_positivos_corretos*100)\n",
    "    lista_acertos_irrelevantes.append(porc_negativos_corretos*100)\n",
    "\n",
    "    print(\"______________________________________________________\")\n",
    "    print('{:.1%}'.format(porc_positivos_corretos), \"de Verdadeiros Positivos\")\n",
    "    print('{:.1%}'.format(porc_negativos_corretos), \"de Verdadeiros Negativos\")\n",
    "    print('{:.1%}'.format(porc_falso_negativo), \"de Falsos Negativos\")\n",
    "    print('{:.1%}'.format(porc_falso_positivo), \"de Falsos Positivos\")\n",
    "    print(\"______________________________________________________\")"
   ]
  },
  {
   "cell_type": "code",
   "execution_count": 38,
   "metadata": {},
   "outputs": [
    {
     "data": {
      "image/png": "[encoded data removed]",
      "text/plain": [
       "<Figure size 1500x1000 with 2 Axes>"
      ]
     },
     "metadata": {},
     "output_type": "display_data"
    }
   ],
   "source": [
    "plt.figure(figsize=(15, 10))\n",
    "\n",
    "plt.subplot(221)\n",
    "plt.hist(lista_acertos_relevantes, edgecolor='white', color='green')\n",
    "plt.title('Taxa de positivos corretos')\n",
    "\n",
    "plt.subplot(222)\n",
    "plt.hist(lista_acertos_irrelevantes, edgecolor='white', color='red')\n",
    "plt.title('Taxa de negativos corretos')\n",
    "\n",
    "plt.show()"
   ]
  },
  {
   "cell_type": "markdown",
   "metadata": {},
   "source": [
    "___\n",
    "# <kbd><code style=\"font-family:Times New Roman;background:black;color:white\"> Referências</code></kbd>"
   ]
  },
  {
   "cell_type": "markdown",
   "metadata": {},
   "source": [
    "[Naive Bayes and Text Classification](https://arxiv.org/pdf/1410.5329.pdf)\n",
    "\n",
    "[A practical explanation of a Naive Bayes Classifier](https://monkeylearn.com/blog/practical-explanation-naive-bayes-classifier/) "
   ]
  }
 ],
 "metadata": {
  "kernelspec": {
   "display_name": "Python 3.10.7 ('env': venv)",
   "language": "python",
   "name": "python3"
  },
  "language_info": {
   "codemirror_mode": {
    "name": "ipython",
    "version": 3
   },
   "file_extension": ".py",
   "mimetype": "text/x-python",
   "name": "python",
   "nbconvert_exporter": "python",
   "pygments_lexer": "ipython3",
   "version": "3.10.7"
  },
  "vscode": {
   "interpreter": {
    "hash": "719556e2da54d7125c14f3339aee7425079518d371bb48d8b0c440e2836ca1f7"
   }
  }
 },
 "nbformat": 4,
 "nbformat_minor": 4
}
